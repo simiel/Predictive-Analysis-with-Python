{
 "cells": [
  {
   "cell_type": "markdown",
   "metadata": {},
   "source": [
    "# Stock Market Analysis"
   ]
  },
  {
   "cell_type": "markdown",
   "metadata": {},
   "source": [
    "### Results?\n",
    "#### We will try to answer the following questions after doing stock market data analysis:\n",
    "\n",
    "How much did the stock price of each company change over time?\n",
    "\n",
    "What were the daily returns for all the companies?\n",
    "\n",
    "How are the stocks of the companies related to each other?\n",
    "\n",
    "How much money do we risk losing by investing in a certain company?\n",
    "\n",
    "Can we predict future stock behavior?"
   ]
  },
  {
   "cell_type": "code",
   "execution_count": null,
   "metadata": {},
   "outputs": [],
   "source": []
  },
  {
   "cell_type": "code",
   "execution_count": 1,
   "metadata": {},
   "outputs": [
    {
     "name": "stdout",
     "output_type": "stream",
     "text": [
      "          Time   Open  High    Low  Close  Volume\n",
      "0  Jan 1, 2018  75.50  75.5  75.00  75.00    4000\n",
      "1  Jan 2, 2018  74.85  76.0  73.11  75.32  197500\n",
      "2  Jan 3, 2018  74.03  74.6  72.30  72.75   21000\n",
      "3  Jan 4, 2018  71.03  74.5  71.03  74.01  381500\n",
      "4  Jan 5, 2018  74.35  77.0  71.00  76.52  180500\n"
     ]
    }
   ],
   "source": [
    "import pandas as pd\n",
    "import matplotlib.pyplot as plt\n",
    "\n",
    "sys = pd.read_csv('Year_2018/SYS.csv')\n",
    "print(sys.head())"
   ]
  }
 ],
 "metadata": {
  "interpreter": {
   "hash": "f3bf6031e464bf1b4b3b2af097e46d681219838e1e464d916beb03609dde4fdf"
  },
  "kernelspec": {
   "display_name": "Python 3.8.8 ('base')",
   "language": "python",
   "name": "python3"
  },
  "language_info": {
   "codemirror_mode": {
    "name": "ipython",
    "version": 3
   },
   "file_extension": ".py",
   "mimetype": "text/x-python",
   "name": "python",
   "nbconvert_exporter": "python",
   "pygments_lexer": "ipython3",
   "version": "3.8.8"
  },
  "orig_nbformat": 4
 },
 "nbformat": 4,
 "nbformat_minor": 2
}
