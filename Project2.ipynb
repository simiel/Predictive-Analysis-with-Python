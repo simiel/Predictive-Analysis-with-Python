{
 "cells": [
  {
   "cell_type": "markdown",
   "metadata": {},
   "source": [
    "# Brand Analysis"
   ]
  },
  {
   "cell_type": "code",
   "execution_count": null,
   "metadata": {},
   "outputs": [],
   "source": [
    "import pandas as pd\n",
    "\n",
    "df  = pd.read_csv('2019-Oct.csv')\n",
    "\n",
    "print(df.head())"
   ]
  },
  {
   "cell_type": "markdown",
   "metadata": {},
   "source": [
    "event_time: The exact time when the activity occurred by a user\n",
    "\n",
    "event_type: The type of activity occurred; there are three types in our case, i.e, view, cart, and purchase\n",
    "\n",
    "product_id: The unique ID of a particular product\n",
    "\n",
    "category_id: The unique ID of the category to which the product belongs to\n",
    "\n",
    "category_code: The unique category code to which the product belongs to\n",
    "\n",
    "brand: The brand name of the selected product\n",
    "\n",
    "price: The price of the selected product\n",
    "\n",
    "user_id: The unique ID of the user\n",
    "\n",
    "user_session: The unique ID generated every time a user visits the site. It is different for every visit of a particular user"
   ]
  },
  {
   "cell_type": "code",
   "execution_count": null,
   "metadata": {},
   "outputs": [],
   "source": [
    "df_with_brand = df[df['brand'].notna()]\n",
    "\n",
    "df_without_brand = df[df['brand'].isna()]\n",
    "\n",
    "#puchase with brand\n",
    "df_with_brand = df_with_brand[df_with_brand['event-type']=='purchase']\n",
    "print(df_with_brand.head())\n",
    "\n",
    "#purchase without brand\n",
    "df_without_brand = df_without_brand[df_with_brand['event-type']=='purchase']\n",
    "print(df_without_brand.head())"
   ]
  },
  {
   "cell_type": "code",
   "execution_count": null,
   "metadata": {},
   "outputs": [],
   "source": [
    "#length of purchase events in total\n",
    "original_length = df[df['event-type']=='purchase']\n",
    "\n",
    "#length of purchases with brand\n",
    "with_brand_length = df_with_brand.shape[1]\n",
    "print(\"Percentage of purchases with brand: \"+ (with_brand_length/original_length)*100)\n",
    "\n",
    "#length of purchases without brand\n",
    "without_brand_length = df_without_brand.shape[1]\n",
    "print(\"Percentage of purchases without brand: \"+ (without_brand_length/original_length)*100)"
   ]
  },
  {
   "cell_type": "markdown",
   "metadata": {},
   "source": [
    "### The hypothesis\n",
    "A hypothesis can be drawn based on the above results.\n",
    "\n",
    "For marketers, most of the marketing budget should be allotted to the advertisement of branded products.\n",
    "\n",
    "For inventors or entrepreneurs, always introduce the product with a brand name because products without a brand have a very low probability of getting bought."
   ]
  },
  {
   "cell_type": "code",
   "execution_count": null,
   "metadata": {},
   "outputs": [],
   "source": [
    "#convert event-time to datetime column\n",
    "df['event_time'] = pd.to_datetime(df['event_time'])\n",
    "\n",
    "#compute and append week_day, day_of_month and hour features\n",
    "df['week_day'] = df['event_time'].day_of_week\n",
    "df['day'] = df['event_time'].day\n",
    "df['hour'] = df['event_time'].hour\n",
    "\n",
    "print(df.head())"
   ]
  },
  {
   "cell_type": "markdown",
   "metadata": {},
   "source": [
    "### Weekly Analysis\n",
    "In this part, we will review a weekly analysis of the number of views. This will reveal the day of the week on which the most or least number of views occur for the website."
   ]
  },
  {
   "cell_type": "code",
   "execution_count": null,
   "metadata": {},
   "outputs": [],
   "source": [
    "import matplotlib.pyplot as plt"
   ]
  },
  {
   "cell_type": "code",
   "execution_count": null,
   "metadata": {},
   "outputs": [],
   "source": [
    "# get all view events of all users\n",
    "view_events = df[df['event-type']=='view']\n",
    "\n",
    "#plot of the number of views against all the days of the week\n",
    "view_plot = view_events['week_day'].value_counts().sort_values().plot(kind='line',figsize=(15,6))\n",
    "\n",
    "# set properties of the plot\n",
    "view_plot.set_xlabel('Days of the week',font_size=15)\n",
    "view_plot.set_ylabel('Number of Views',font_size=15)\n",
    "view_plot.set_title('Number of views per day of the week',font_size=15)\n",
    "view_plot.get_xticklabels(('Mon','Tue','Wed','Thur','Fri', 'Sat','Sun'),rotation='horizontal', font_size=15)\n",
    "\n",
    "# show the plot\n",
    "plt.show()"
   ]
  },
  {
   "cell_type": "code",
   "execution_count": null,
   "metadata": {},
   "outputs": [],
   "source": [
    "# get all view events of all users\n",
    "view_events = df[df['event-type']=='view']\n",
    "\n",
    "#plot of the number of views against all the days of the week\n",
    "view_plot = view_events['hour'].value_counts().sort_values().plot(kind='line',figsize=(15,6))\n",
    "\n",
    "# set properties of the plot\n",
    "view_plot.set_xlabel('Hour of the day',font_size=15)\n",
    "view_plot.set_ylabel('Number of Views',font_size=15)\n",
    "view_plot.set_title('Number of views per hour of the day',font_size=15)\n",
    "view_plot.get_xticklabels(np.arange(1,24),rotation='horizontal', font_size=15)\n",
    "\n",
    "# show the plot\n",
    "plt.show()"
   ]
  },
  {
   "cell_type": "markdown",
   "metadata": {},
   "source": [
    "The hypothesis#"
   ]
  },
  {
   "cell_type": "code",
   "execution_count": null,
   "metadata": {},
   "outputs": [],
   "source": []
  },
  {
   "cell_type": "code",
   "execution_count": null,
   "metadata": {},
   "outputs": [],
   "source": [
    "### Select all puchase events\n",
    "purchase_events_df = df[df['event']=='purchase']\n",
    "\n",
    "### Group data on brands\n",
    "brands_group = purchase_events_df.groupby('brand')\n",
    "\n",
    "### Number of products bought in each brand\n",
    "top_brands = brands_group.agg('len')\n",
    "top_brands.sort_values('len', ascending=False,inplace=True)\n",
    "\n",
    "print(top_brands)"
   ]
  },
  {
   "cell_type": "code",
   "execution_count": null,
   "metadata": {},
   "outputs": [],
   "source": [
    "### Select all puchase events\n",
    "purchase_events_df = df[df['event']=='purchase']\n",
    "\n",
    "### Group data on brands\n",
    "brands_group = purchase_events_df.groupby('brand')\n",
    "\n",
    "### Number of products bought in each brand\n",
    "top_brands = brands_group.agg('len')\n",
    "top_brands.sort_values('len', ascending=False,inplace=True)\n",
    "\n",
    "print(top_brands)"
   ]
  }
 ],
 "metadata": {
  "language_info": {
   "name": "python"
  },
  "orig_nbformat": 4
 },
 "nbformat": 4,
 "nbformat_minor": 2
}
