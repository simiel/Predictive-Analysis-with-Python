{
 "cells": [
  {
   "cell_type": "code",
   "execution_count": 1,
   "metadata": {},
   "outputs": [],
   "source": [
    "import numpy as np"
   ]
  },
  {
   "cell_type": "code",
   "execution_count": 2,
   "metadata": {},
   "outputs": [
    {
     "name": "stdout",
     "output_type": "stream",
     "text": [
      "[ 1  2  3  4  5  6  1  2 32  5  7  8]\n"
     ]
    }
   ],
   "source": [
    "first_array  = np.array([1,2,3,4,5,6,1,2,32,5,7,8])\n",
    "print(first_array)"
   ]
  },
  {
   "cell_type": "code",
   "execution_count": 4,
   "metadata": {},
   "outputs": [
    {
     "name": "stdout",
     "output_type": "stream",
     "text": [
      "[list([1, 2, 3, 4, 5]) list([6, 1, 2, 32, 5, 7, 8])]\n"
     ]
    },
    {
     "name": "stderr",
     "output_type": "stream",
     "text": [
      "<ipython-input-4-434636d66948>:1: VisibleDeprecationWarning: Creating an ndarray from ragged nested sequences (which is a list-or-tuple of lists-or-tuples-or ndarrays with different lengths or shapes) is deprecated. If you meant to do this, you must specify 'dtype=object' when creating the ndarray.\n",
      "  twoD_array  = np.array([[1,2,3,4,5],[6,1,2,32,5,7,8]])\n"
     ]
    }
   ],
   "source": [
    "twoD_array  = np.array([[1,2,3,4,5],[6,1,2,32,5,7,8]])\n",
    "print(twoD_array)"
   ]
  },
  {
   "cell_type": "code",
   "execution_count": 5,
   "metadata": {},
   "outputs": [
    {
     "name": "stdout",
     "output_type": "stream",
     "text": [
      "[0. 0. 0. 0. 0. 0.]\n"
     ]
    }
   ],
   "source": [
    "empty_array = np.empty(6)\n",
    "print(empty_array)"
   ]
  },
  {
   "cell_type": "code",
   "execution_count": 6,
   "metadata": {},
   "outputs": [
    {
     "name": "stdout",
     "output_type": "stream",
     "text": [
      "[ 4  7 10 13 16 19 22 25 28 31 34 37]\n"
     ]
    }
   ],
   "source": [
    "range_array = np.arange(4,40,3)\n",
    "print(range_array)"
   ]
  },
  {
   "cell_type": "markdown",
   "metadata": {},
   "source": [
    "There is a memory problem with slicing an array, to create independent slices you'd have to use the .copy() method"
   ]
  },
  {
   "cell_type": "code",
   "execution_count": 12,
   "metadata": {},
   "outputs": [
    {
     "name": "stdout",
     "output_type": "stream",
     "text": [
      "[13 16 19 22 25 28 31]\n",
      "[0 0 0 0 0 0 0]\n",
      "[ 4  7 10  0  0  0  0  0  0  0 34 37]\n"
     ]
    }
   ],
   "source": [
    "slice_array = range_array[3:-2]\n",
    "print(slice_array)\n",
    "slice_array[:]=0\n",
    "print(slice_array)\n",
    "print(range_array)"
   ]
  },
  {
   "cell_type": "code",
   "execution_count": 13,
   "metadata": {},
   "outputs": [
    {
     "name": "stdout",
     "output_type": "stream",
     "text": [
      "[ 4  7 10  0  0  0  0  0  0  0 34 37]\n",
      "[5 5 5 5 5 5 5]\n",
      "[ 4  7 10  0  0  0  0  0  0  0 34 37]\n"
     ]
    }
   ],
   "source": [
    "print(range_array)\n",
    "copy_array = range_array[3:-2].copy()\n",
    "copy_array[:] = 5\n",
    "print(copy_array)\n",
    "print(range_array)\n",
    "\n"
   ]
  },
  {
   "cell_type": "markdown",
   "metadata": {},
   "source": [
    "## Transpose an array"
   ]
  },
  {
   "cell_type": "code",
   "execution_count": 16,
   "metadata": {},
   "outputs": [
    {
     "name": "stdout",
     "output_type": "stream",
     "text": [
      "[ 0  1  2  3  4  5  6  7  8  9 10 11 12 13 14 15 16 17 18 19 20 21 22 23\n",
      " 24 25 26 27 28 29 30 31 32 33 34 35 36 37 38 39 40 41 42 43 44 45 46 47\n",
      " 48 49]\n",
      "[[ 0  1  2  3  4  5  6  7  8  9]\n",
      " [10 11 12 13 14 15 16 17 18 19]\n",
      " [20 21 22 23 24 25 26 27 28 29]\n",
      " [30 31 32 33 34 35 36 37 38 39]\n",
      " [40 41 42 43 44 45 46 47 48 49]]\n",
      "[[ 0 10 20 30 40]\n",
      " [ 1 11 21 31 41]\n",
      " [ 2 12 22 32 42]\n",
      " [ 3 13 23 33 43]\n",
      " [ 4 14 24 34 44]\n",
      " [ 5 15 25 35 45]\n",
      " [ 6 16 26 36 46]\n",
      " [ 7 17 27 37 47]\n",
      " [ 8 18 28 38 48]\n",
      " [ 9 19 29 39 49]]\n"
     ]
    }
   ],
   "source": [
    "five_by_ten = np.arange(0,50)\n",
    "print(five_by_ten)\n",
    "five_by_ten = five_by_ten.reshape(5,10)\n",
    "print(five_by_ten)\n",
    "print(five_by_ten.transpose())"
   ]
  },
  {
   "cell_type": "markdown",
   "metadata": {},
   "source": [
    "### Challenge to return minimum and maximum values of mini arrays in an array"
   ]
  },
  {
   "cell_type": "code",
   "execution_count": 21,
   "metadata": {},
   "outputs": [
    {
     "data": {
      "text/plain": [
       "[-6, 5, -1, 9, -4, 12]"
      ]
     },
     "execution_count": 21,
     "metadata": {},
     "output_type": "execute_result"
    }
   ],
   "source": [
    "def getMinMax(arr):\n",
    "    \n",
    "    res = []\n",
    "    # Write code here!\n",
    "    for arrx in arr:\n",
    "        res.append(arrx.min())\n",
    "        res.append(arrx.max())\n",
    "\n",
    "    return res\n",
    "\n",
    "arr = np.array([\n",
    "[-3, 0, 5, -6],\n",
    "[7, 2, -1, 9],\n",
    "[12, -4, 3, 1],\n",
    "])\n",
    "\n",
    "getMinMax(arr)"
   ]
  }
 ],
 "metadata": {
  "interpreter": {
   "hash": "f3bf6031e464bf1b4b3b2af097e46d681219838e1e464d916beb03609dde4fdf"
  },
  "kernelspec": {
   "display_name": "Python 3.8.8 ('base')",
   "language": "python",
   "name": "python3"
  },
  "language_info": {
   "codemirror_mode": {
    "name": "ipython",
    "version": 3
   },
   "file_extension": ".py",
   "mimetype": "text/x-python",
   "name": "python",
   "nbconvert_exporter": "python",
   "pygments_lexer": "ipython3",
   "version": "3.8.8"
  },
  "orig_nbformat": 4
 },
 "nbformat": 4,
 "nbformat_minor": 2
}
