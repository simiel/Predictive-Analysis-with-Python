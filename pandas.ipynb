{
 "cells": [
  {
   "cell_type": "markdown",
   "metadata": {},
   "source": [
    "# PANDAS"
   ]
  },
  {
   "cell_type": "code",
   "execution_count": 1,
   "metadata": {},
   "outputs": [],
   "source": [
    "import pandas as pd"
   ]
  },
  {
   "cell_type": "code",
   "execution_count": 4,
   "metadata": {},
   "outputs": [
    {
     "name": "stdout",
     "output_type": "stream",
     "text": [
      "0    1\n",
      "1    2\n",
      "2    3\n",
      "3    4\n",
      "4    5\n",
      "5    6\n",
      "dtype: int64\n",
      "[1 2 3 4 5 6]\n",
      "[0 1 2 3 4 5]\n"
     ]
    }
   ],
   "source": [
    "series = pd.Series([1,2,3,4,5,6])\n",
    "print(series)\n",
    "print(series.values)\n",
    "print(series.index.values)"
   ]
  },
  {
   "cell_type": "code",
   "execution_count": 9,
   "metadata": {},
   "outputs": [
    {
     "name": "stdout",
     "output_type": "stream",
     "text": [
      "One       12\n",
      "Two        3\n",
      "Three      4\n",
      "Four      75\n",
      "Five      32\n",
      "Six       75\n",
      "Seven     23\n",
      "Eight     75\n",
      "Nine       2\n",
      "Ten       34\n",
      "Eleven    53\n",
      "dtype: int64\n"
     ]
    },
    {
     "data": {
      "text/plain": [
       "inWords\n",
       "One       12\n",
       "Two        3\n",
       "Three      4\n",
       "Four      75\n",
       "Five      32\n",
       "Six       75\n",
       "Seven     23\n",
       "Eight     75\n",
       "Nine       2\n",
       "Ten       34\n",
       "Eleven    53\n",
       "Name: inDigits, dtype: int64"
      ]
     },
     "execution_count": 9,
     "metadata": {},
     "output_type": "execute_result"
    }
   ],
   "source": [
    "my_series = pd.Series([12,3,4,75,32,75,23,75,2,34,53],index=['One','Two','Three','Four','Five','Six',\n",
    "'Seven','Eight','Nine','Ten','Eleven'])\n",
    "print(my_series)\n",
    "my_series.name = 'inDigits'\n",
    "my_series.index.name = 'inWords'\n",
    "my_series"
   ]
  },
  {
   "cell_type": "markdown",
   "metadata": {},
   "source": [
    "## DataFrame"
   ]
  },
  {
   "cell_type": "code",
   "execution_count": 11,
   "metadata": {},
   "outputs": [],
   "source": [
    "data = pd.read_csv('./fandango_score_comparison.csv')"
   ]
  },
  {
   "cell_type": "code",
   "execution_count": 14,
   "metadata": {},
   "outputs": [
    {
     "name": "stdout",
     "output_type": "stream",
     "text": [
      "Index(['FILM', 'RottenTomatoes', 'RottenTomatoes_User', 'Metacritic',\n",
      "       'Metacritic_User', 'IMDB', 'Fandango_Stars', 'Fandango_Ratingvalue',\n",
      "       'RT_norm', 'RT_user_norm', 'Metacritic_norm', 'Metacritic_user_nom',\n",
      "       'IMDB_norm', 'RT_norm_round', 'RT_user_norm_round',\n",
      "       'Metacritic_norm_round', 'Metacritic_user_norm_round',\n",
      "       'IMDB_norm_round', 'Metacritic_user_vote_count', 'IMDB_user_vote_count',\n",
      "       'Fandango_votes', 'Fandango_Difference'],\n",
      "      dtype='object')\n"
     ]
    }
   ],
   "source": [
    "print(data.columns)"
   ]
  },
  {
   "cell_type": "code",
   "execution_count": 19,
   "metadata": {},
   "outputs": [
    {
     "data": {
      "text/html": [
       "<div>\n",
       "<style scoped>\n",
       "    .dataframe tbody tr th:only-of-type {\n",
       "        vertical-align: middle;\n",
       "    }\n",
       "\n",
       "    .dataframe tbody tr th {\n",
       "        vertical-align: top;\n",
       "    }\n",
       "\n",
       "    .dataframe thead th {\n",
       "        text-align: right;\n",
       "    }\n",
       "</style>\n",
       "<table border=\"1\" class=\"dataframe\">\n",
       "  <thead>\n",
       "    <tr style=\"text-align: right;\">\n",
       "      <th></th>\n",
       "      <th>FILM</th>\n",
       "      <th>RottenTomatoes</th>\n",
       "      <th>RottenTomatoes_User</th>\n",
       "      <th>Metacritic</th>\n",
       "    </tr>\n",
       "  </thead>\n",
       "  <tbody>\n",
       "    <tr>\n",
       "      <th>0</th>\n",
       "      <td>Avengers: Age of Ultron (2015)</td>\n",
       "      <td>74</td>\n",
       "      <td>86</td>\n",
       "      <td>66</td>\n",
       "    </tr>\n",
       "    <tr>\n",
       "      <th>1</th>\n",
       "      <td>Cinderella (2015)</td>\n",
       "      <td>85</td>\n",
       "      <td>80</td>\n",
       "      <td>67</td>\n",
       "    </tr>\n",
       "    <tr>\n",
       "      <th>2</th>\n",
       "      <td>Ant-Man (2015)</td>\n",
       "      <td>80</td>\n",
       "      <td>90</td>\n",
       "      <td>64</td>\n",
       "    </tr>\n",
       "    <tr>\n",
       "      <th>3</th>\n",
       "      <td>Do You Believe? (2015)</td>\n",
       "      <td>18</td>\n",
       "      <td>84</td>\n",
       "      <td>22</td>\n",
       "    </tr>\n",
       "    <tr>\n",
       "      <th>4</th>\n",
       "      <td>Hot Tub Time Machine 2 (2015)</td>\n",
       "      <td>14</td>\n",
       "      <td>28</td>\n",
       "      <td>29</td>\n",
       "    </tr>\n",
       "  </tbody>\n",
       "</table>\n",
       "</div>"
      ],
      "text/plain": [
       "                             FILM  RottenTomatoes  RottenTomatoes_User  \\\n",
       "0  Avengers: Age of Ultron (2015)              74                   86   \n",
       "1               Cinderella (2015)              85                   80   \n",
       "2                  Ant-Man (2015)              80                   90   \n",
       "3          Do You Believe? (2015)              18                   84   \n",
       "4   Hot Tub Time Machine 2 (2015)              14                   28   \n",
       "\n",
       "   Metacritic  \n",
       "0          66  \n",
       "1          67  \n",
       "2          64  \n",
       "3          22  \n",
       "4          29  "
      ]
     },
     "execution_count": 19,
     "metadata": {},
     "output_type": "execute_result"
    }
   ],
   "source": [
    "new_data = pd.DataFrame(data, columns=['FILM', 'RottenTomatoes', 'RottenTomatoes_User', 'Metacritic'])\n",
    "new_data.head()"
   ]
  },
  {
   "cell_type": "code",
   "execution_count": 20,
   "metadata": {},
   "outputs": [
    {
     "name": "stdout",
     "output_type": "stream",
     "text": [
      "12\n",
      "<class 'numpy.int64'>\n"
     ]
    }
   ],
   "source": [
    "print(my_series[0])\n",
    "print(type(my_series[0]))"
   ]
  },
  {
   "cell_type": "code",
   "execution_count": 26,
   "metadata": {},
   "outputs": [
    {
     "data": {
      "text/plain": [
       "(146, 22)"
      ]
     },
     "execution_count": 26,
     "metadata": {},
     "output_type": "execute_result"
    }
   ],
   "source": [
    "data.shape"
   ]
  },
  {
   "cell_type": "code",
   "execution_count": 27,
   "metadata": {},
   "outputs": [
    {
     "data": {
      "text/plain": [
       "FILM                          Avengers: Age of Ultron (2015)\n",
       "RottenTomatoes                                            74\n",
       "RottenTomatoes_User                                       86\n",
       "Metacritic                                                66\n",
       "Metacritic_User                                          7.1\n",
       "IMDB                                                     7.8\n",
       "Fandango_Stars                                           5.0\n",
       "Fandango_Ratingvalue                                     4.5\n",
       "RT_norm                                                  3.7\n",
       "RT_user_norm                                             4.3\n",
       "Metacritic_norm                                          3.3\n",
       "Metacritic_user_nom                                     3.55\n",
       "IMDB_norm                                                3.9\n",
       "RT_norm_round                                            3.5\n",
       "RT_user_norm_round                                       4.5\n",
       "Metacritic_norm_round                                    3.5\n",
       "Metacritic_user_norm_round                               3.5\n",
       "IMDB_norm_round                                          4.0\n",
       "Metacritic_user_vote_count                              1330\n",
       "IMDB_user_vote_count                                  271107\n",
       "Fandango_votes                                         14846\n",
       "Fandango_Difference                                      0.5\n",
       "Name: 0, dtype: object"
      ]
     },
     "execution_count": 27,
     "metadata": {},
     "output_type": "execute_result"
    }
   ],
   "source": [
    "data.loc[0]"
   ]
  },
  {
   "cell_type": "code",
   "execution_count": 33,
   "metadata": {},
   "outputs": [
    {
     "data": {
      "text/plain": [
       "inWords\n",
       "Nine       1.0\n",
       "Two        2.0\n",
       "Three      3.0\n",
       "One        4.0\n",
       "Seven      5.0\n",
       "Five       6.0\n",
       "Ten        7.0\n",
       "Eleven     8.0\n",
       "Four      10.0\n",
       "Six       10.0\n",
       "Eight     10.0\n",
       "Name: inDigits, dtype: float64"
      ]
     },
     "execution_count": 33,
     "metadata": {},
     "output_type": "execute_result"
    }
   ],
   "source": [
    "my_series.sort_values().rank()"
   ]
  },
  {
   "cell_type": "code",
   "execution_count": 45,
   "metadata": {},
   "outputs": [
    {
     "data": {
      "text/plain": [
       "0      0.5\n",
       "1      0.5\n",
       "2      0.5\n",
       "3      0.5\n",
       "4      0.5\n",
       "      ... \n",
       "141    0.0\n",
       "142    0.0\n",
       "143    0.0\n",
       "144    0.0\n",
       "145    0.0\n",
       "Length: 146, dtype: float64"
      ]
     },
     "execution_count": 45,
     "metadata": {},
     "output_type": "execute_result"
    }
   ],
   "source": [
    "data.min(axis=1)"
   ]
  },
  {
   "cell_type": "code",
   "execution_count": 50,
   "metadata": {},
   "outputs": [],
   "source": [
    "import numpy as np"
   ]
  },
  {
   "cell_type": "code",
   "execution_count": 53,
   "metadata": {},
   "outputs": [
    {
     "data": {
      "text/plain": [
       "FILM                          '71 (2015)Woman in Gold (2015)\n",
       "RottenTomatoes                                           105\n",
       "RottenTomatoes_User                                      114\n",
       "Metacritic                                               107\n",
       "Metacritic_User                                         12.0\n",
       "IMDB                                                    12.6\n",
       "Fandango_Stars                                           8.0\n",
       "Fandango_Ratingvalue                                     7.5\n",
       "RT_norm                                                 5.25\n",
       "RT_user_norm                                             5.7\n",
       "Metacritic_norm                                         5.35\n",
       "Metacritic_user_nom                                      6.0\n",
       "IMDB_norm                                                6.3\n",
       "RT_norm_round                                            5.5\n",
       "RT_user_norm_round                                       5.5\n",
       "Metacritic_norm_round                                    5.0\n",
       "Metacritic_user_norm_round                               6.0\n",
       "IMDB_norm_round                                          6.5\n",
       "Metacritic_user_vote_count                              2379\n",
       "IMDB_user_vote_count                                  334407\n",
       "Fandango_votes                                         34881\n",
       "Fandango_Difference                                      0.5\n",
       "dtype: object"
      ]
     },
     "execution_count": 53,
     "metadata": {},
     "output_type": "execute_result"
    }
   ],
   "source": [
    "np.min(data, axis = 0) + np.max(data, axis = 0)"
   ]
  },
  {
   "cell_type": "code",
   "execution_count": 75,
   "metadata": {},
   "outputs": [
    {
     "name": "stdout",
     "output_type": "stream",
     "text": [
      "      x    y\n",
      "0   1.0  6.0\n",
      "R2  1.0  6.0\n",
      "R3  1.0  6.0\n",
      "R4  1.0  6.0\n"
     ]
    }
   ],
   "source": [
    "xx = pd.DataFrame({'x':[1,2,34],'y':[6,5,4]})\n",
    "\n",
    "import numpy as np\n",
    "import pandas as pd\n",
    "\n",
    "df = pd.DataFrame(xx, index=[0,2], columns=['x','y'])\n",
    "df = df.reindex([0, 'R2', 'R3', 'R4']).ffill(axis = 0)\n",
    "print(df)"
   ]
  },
  {
   "cell_type": "code",
   "execution_count": 78,
   "metadata": {},
   "outputs": [
    {
     "name": "stdout",
     "output_type": "stream",
     "text": [
      "    C1  C2  C3  C4\n",
      "R1  12  13  14  15\n",
      "R2   0   1   2   3\n",
      "R3   4   5   6   7\n",
      "R4   8   9  10  11\n"
     ]
    }
   ],
   "source": [
    "arr2d = np.arange(16).reshape(4,4)\n",
    "df = pd.DataFrame(arr2d, index=['R2', 'R3', 'R4','R1'], columns=['C1','C2','C3','C4'])\n",
    "df = df.reindex(['R1', 'R2', 'R3', 'R4']).ffill(axis = 0)\n",
    "print(df)"
   ]
  }
 ],
 "metadata": {
  "interpreter": {
   "hash": "f3bf6031e464bf1b4b3b2af097e46d681219838e1e464d916beb03609dde4fdf"
  },
  "kernelspec": {
   "display_name": "Python 3.8.8 ('base')",
   "language": "python",
   "name": "python3"
  },
  "language_info": {
   "codemirror_mode": {
    "name": "ipython",
    "version": 3
   },
   "file_extension": ".py",
   "mimetype": "text/x-python",
   "name": "python",
   "nbconvert_exporter": "python",
   "pygments_lexer": "ipython3",
   "version": "3.8.8"
  },
  "orig_nbformat": 4
 },
 "nbformat": 4,
 "nbformat_minor": 2
}
