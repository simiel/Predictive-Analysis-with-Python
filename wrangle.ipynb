{
 "cells": [
  {
   "cell_type": "code",
   "execution_count": null,
   "metadata": {},
   "outputs": [],
   "source": []
  },
  {
   "cell_type": "code",
   "execution_count": null,
   "metadata": {},
   "outputs": [],
   "source": []
  },
  {
   "cell_type": "code",
   "execution_count": 13,
   "metadata": {},
   "outputs": [
    {
     "name": "stdout",
     "output_type": "stream",
     "text": [
      "   PassengerId  Pclass                                          Name     Sex  \\\n",
      "0          892       3                              Kelly, Mr. James    male   \n",
      "1          893       3              Wilkes, Mrs. James (Ellen Needs)  female   \n",
      "2          894       2                     Myles, Mr. Thomas Francis    male   \n",
      "3          895       3                              Wirz, Mr. Albert    male   \n",
      "4          896       3  Hirvonen, Mrs. Alexander (Helga E Lindqvist)  female   \n",
      "\n",
      "    Age  SibSp  Parch   Ticket     Fare Cabin Embarked  \n",
      "0  34.5      0      0   330911   7.8292   NaN        Q  \n",
      "1  47.0      1      0   363272   7.0000   NaN        S  \n",
      "2  62.0      0      0   240276   9.6875   NaN        Q  \n",
      "3  27.0      0      0   315154   8.6625   NaN        S  \n",
      "4  22.0      1      1  3101298  12.2875   NaN        S  \n",
      "     PassengerId  Pclass                           Name   Sex   Age  SibSp  \\\n",
      "81           973       1             Straus, Mr. Isidor  male  67.0      1   \n",
      "236         1128       1       Warren, Mr. Frank Manley  male  64.0      1   \n",
      "13           905       2           Howard, Mr. Benjamin  male  63.0      1   \n",
      "2            894       2      Myles, Mr. Thomas Francis  male  62.0      0   \n",
      "142         1034       1     Ryerson, Mr. Arthur Larned  male  61.0      1   \n",
      "193         1085       2              Lingane, Mr. John  male  61.0      0   \n",
      "152         1044       3             Storey, Mr. Thomas  male  60.5      0   \n",
      "217         1109       1       Wick, Mr. George Dennick  male  57.0      1   \n",
      "316         1208       1  Spencer, Mr. William Augustus  male  57.0      1   \n",
      "387         1279       2                Ashby, Mr. John  male  57.0      0   \n",
      "\n",
      "     Parch    Ticket      Fare            Cabin Embarked  AQI_rank  \n",
      "81       0  PC 17483  221.7792          C55 C57        S         1  \n",
      "236      0    110813   75.2500              D37        C         2  \n",
      "13       0     24065   26.0000              NaN        S         1  \n",
      "2        0    240276    9.6875              NaN        Q         2  \n",
      "142      3  PC 17608  262.3750  B57 B59 B63 B66        C         3  \n",
      "193      0    235509   12.3500              NaN        Q         3  \n",
      "152      0      3701       NaN              NaN        S         1  \n",
      "217      1     36928  164.8667              NaN        S         4  \n",
      "316      0  PC 17569  146.5208              B78        C         5  \n",
      "387      0    244346   13.0000              NaN        S         4  \n"
     ]
    }
   ],
   "source": [
    "import pandas as pd\n",
    "import numpy as np\n",
    "\n",
    "def rank_func(df):\n",
    "    df['AQI_rank'] = np.arange(0, len(df),1) + 1\n",
    "    return df\n",
    "\n",
    "df = pd.read_csv('test.csv')\n",
    "\n",
    "print(df.head())\n",
    "\n",
    "df = df.sort_values(['Sex','Age'], ascending=False)\n",
    "\n",
    "df = df.groupby('Pclass')\n",
    "df = df.apply(rank_func)\n",
    "\n",
    "print(df.head(10))"
   ]
  },
  {
   "cell_type": "code",
   "execution_count": 22,
   "metadata": {},
   "outputs": [
    {
     "name": "stdout",
     "output_type": "stream",
     "text": [
      "   PassengerId  Pclass                                          Name     Sex  \\\n",
      "0          892       3                              Kelly, Mr. James    male   \n",
      "1          893       3              Wilkes, Mrs. James (Ellen Needs)  female   \n",
      "2          894       2                     Myles, Mr. Thomas Francis    male   \n",
      "3          895       3                              Wirz, Mr. Albert    male   \n",
      "4          896       3  Hirvonen, Mrs. Alexander (Helga E Lindqvist)  female   \n",
      "\n",
      "    Age  SibSp  Parch   Ticket     Fare Cabin Embarked  new  \n",
      "0  34.5      0      0   330911   7.8292   NaN        Q    1  \n",
      "1  47.0      1      0   363272   7.0000   NaN        S    1  \n",
      "2  62.0      0      0   240276   9.6875   NaN        Q    2  \n",
      "3  27.0      0      0   315154   8.6625   NaN        S    3  \n",
      "4  22.0      1      1  3101298  12.2875   NaN        S    2  \n"
     ]
    }
   ],
   "source": [
    "df = pd.read_csv('test.csv')\n",
    "def custom(group):\n",
    "    group['new'] = np.arange(0,len(group))+1\n",
    "    # print(group.head())\n",
    "    return group\n",
    "\n",
    "\n",
    "xxx = df.groupby('Sex')\n",
    "xxx = xxx.apply(custom)\n",
    "print(xxx.head())\n",
    "# df.head()"
   ]
  }
 ],
 "metadata": {
  "interpreter": {
   "hash": "f3bf6031e464bf1b4b3b2af097e46d681219838e1e464d916beb03609dde4fdf"
  },
  "kernelspec": {
   "display_name": "Python 3.8.8 ('base')",
   "language": "python",
   "name": "python3"
  },
  "language_info": {
   "codemirror_mode": {
    "name": "ipython",
    "version": 3
   },
   "file_extension": ".py",
   "mimetype": "text/x-python",
   "name": "python",
   "nbconvert_exporter": "python",
   "pygments_lexer": "ipython3",
   "version": "3.8.8"
  },
  "orig_nbformat": 4
 },
 "nbformat": 4,
 "nbformat_minor": 2
}
